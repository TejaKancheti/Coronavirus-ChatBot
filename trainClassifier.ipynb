{
 "cells": [
  {
   "cell_type": "code",
   "execution_count": 1,
   "metadata": {},
   "outputs": [
    {
     "name": "stderr",
     "output_type": "stream",
     "text": [
      "Using TensorFlow backend.\n"
     ]
    },
    {
     "name": "stdout",
     "output_type": "stream",
     "text": [
      "Train on 152064 samples, validate on 101376 samples\n",
      "Epoch 1/1\n",
      "152064/152064 [==============================] - 31s 205us/step - loss: 0.1078 - binary_accuracy: 0.9756 - val_loss: 0.0276 - val_binary_accuracy: 1.0000\n"
     ]
    }
   ],
   "source": [
    "import scipy\n",
    "import numpy as np\n",
    "import pandas as pd\n",
    "from keras import Sequential\n",
    "from keras.layers import Dense, Dropout\n",
    "from sklearn import svm\n",
    "from sklearn.model_selection import train_test_split\n",
    "import pickle\n",
    "import keras\n",
    "from sklearn.utils import shuffle\n",
    "\n",
    "# df = pd.read_csv('Data.csv')\n",
    "# df['cond1'] = np.where((df['Fever'] * df['Tiredness'] * df['Dry-Cough'] == 1), 1, 0)\n",
    "# col_list= list(df)\n",
    "# col_list = col_list[0:8]\n",
    "# print(col_list)\n",
    "# df['cond2'] = np.where(df[col_list].sum(axis=1) > 5, 1, 0)\n",
    "# df['cond3'] = np.where(df['Severity_Severe'] == 1, 1, 0)\n",
    "#\n",
    "#\n",
    "# df['covid'] = np.where((df['cond1'] + df['cond2'] + df['cond3'] >0), 1, 0)\n",
    "# df.to_csv('changed.csv',index=False)\n",
    "\n",
    "df = pd.read_csv('changed.csv')\n",
    "columns_to_exclude = [ 'covid', 'cond1', 'cond2', 'cond3']\n",
    "df_train = df.drop(columns_to_exclude, axis=1)\n",
    "df_target = df.loc[:, df.columns == 'covid']\n",
    "X_train, X_test, y_train, y_test = train_test_split(df_train, df_target, test_size=0.2, random_state=42)\n",
    "X_train,y_train = shuffle(X_train, y_train)\n",
    "X_test,y_test = shuffle(X_test, y_test)\n",
    "model = Sequential()\n",
    "model.add(Dense(4, input_shape=(34,), activation='relu'))\n",
    "# model.add(Dropout(0.5))\n",
    "# model.add(Dense(4, activation='relu'))\n",
    "model.add(Dense(1, activation='sigmoid'))\n",
    "model.compile(loss='binary_crossentropy', optimizer='adam', metrics=['binary_accuracy'])\n",
    "clasifier = model.fit(np.array(X_train), np.array(y_train),validation_split=0.4, epochs=1, batch_size=16, verbose=1)\n",
    "model.save('classifier_model.h5', clasifier)\n",
    "# from sklearn.utils import shuffle\n",
    "#\n",
    "# from sklearn import tree\n",
    "# import pandas as pd\n",
    "# from sklearn.model_selection import train_test_split\n",
    "# import matplotlib.pyplot as plt\n",
    "# df = pd.read_csv('Data.csv')\n",
    "# columns_to_exclude = [ 'covid']\n",
    "# df_train = df.drop(columns_to_exclude, axis=1)\n",
    "# df_target = df.loc[:, df.columns == 'covid']\n",
    "# X_train, X_test, y_train, y_test = train_test_split(df_train, df_target, test_size=0.2, random_state=42)\n",
    "# X_train,y_train = shuffle(X_train, y_train)\n",
    "# X_test,y_test = shuffle(X_test, y_test)\n",
    "# clf = tree.DecisionTreeClassifier()\n",
    "# clf = clf.fit(X_train, y_train)\n",
    "# score = clf.score(X_test, y_test)\n",
    "#\n",
    "# with open('tree.pkl', 'wb') as f:\n",
    "#     pickle.dump(clf, f)\n"
   ]
  },
  {
   "cell_type": "code",
   "execution_count": null,
   "metadata": {},
   "outputs": [],
   "source": []
  }
 ],
 "metadata": {
  "kernelspec": {
   "display_name": "Python 3",
   "language": "python",
   "name": "python3"
  },
  "language_info": {
   "codemirror_mode": {
    "name": "ipython",
    "version": 3
   },
   "file_extension": ".py",
   "mimetype": "text/x-python",
   "name": "python",
   "nbconvert_exporter": "python",
   "pygments_lexer": "ipython3",
   "version": "3.6.10"
  }
 },
 "nbformat": 4,
 "nbformat_minor": 4
}
